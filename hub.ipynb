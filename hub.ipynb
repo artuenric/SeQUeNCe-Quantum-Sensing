{
 "cells": [
  {
   "cell_type": "code",
   "execution_count": null,
   "id": "f1656b64",
   "metadata": {},
   "outputs": [],
   "source": [
    "from sequence.kernel.timeline import Timeline\n",
    "from sequence.components.memory import MemoryArray\n",
    "from sequence.topology.node import Node\n",
    "# cria uma instância de Timeline\n",
    "runtime = 1e12  # tempo máximo de simulação em picosegundos\n",
    "tl = Timeline(runtime)\n",
    "\n",
    "# cria \n",
    "class Hub(Node):\n",
    "    def __init__(self, name, timeline):\n",
    "        super().__init__(name, timeline)\n",
    "        # Memória de qubits, são esses argumentos\n",
    "        memory_array_name = f\"{self.name}.memory_array\"\n",
    "        # outros detalhes envolvem parametros de configuração da memória, mas por enquanto só isso\n",
    "        self.memory_array = MemoryArray(memory_array_name, timeline, num_memories=10)\n",
    "        # adiciona as memórias ao hub\n",
    "        self.add_component(self.memory_array)\n",
    "        # indica que a memória é desse hub\n",
    "        self.memory_array.add_receiver(self)\n",
    "    \n",
    "    \n",
    "hub = Hub(\"hub\", tl)\n",
    "# configuração opcional: desativar barra de progresso\n",
    "tl.show_progress = False"
   ]
  }
 ],
 "metadata": {
  "kernelspec": {
   "display_name": ".venv",
   "language": "python",
   "name": "python3"
  },
  "language_info": {
   "codemirror_mode": {
    "name": "ipython",
    "version": 3
   },
   "file_extension": ".py",
   "mimetype": "text/x-python",
   "name": "python",
   "nbconvert_exporter": "python",
   "pygments_lexer": "ipython3",
   "version": "3.13.3"
  }
 },
 "nbformat": 4,
 "nbformat_minor": 5
}
