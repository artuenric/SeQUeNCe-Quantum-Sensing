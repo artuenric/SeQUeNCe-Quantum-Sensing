{
 "cells": [
  {
   "cell_type": "code",
   "execution_count": null,
   "id": "f1656b64",
   "metadata": {},
   "outputs": [
    {
     "name": "stdout",
     "output_type": "stream",
     "text": [
      "<class 'sequence.resource_management.memory_manager.MemoryInfo'>\n",
      "[Hub hub] memória hub.memory_array[0] está RAW.\n",
      "<class 'sequence.resource_management.memory_manager.MemoryInfo'>\n",
      "[Hub hub] memória hub.memory_array[1] está RAW.\n",
      "<class 'sequence.resource_management.memory_manager.MemoryInfo'>\n",
      "[Hub hub] memória hub.memory_array[2] está RAW.\n",
      "<class 'sequence.resource_management.memory_manager.MemoryInfo'>\n",
      "[Hub hub] memória hub.memory_array[3] está RAW.\n",
      "<class 'sequence.resource_management.memory_manager.MemoryInfo'>\n",
      "[Hub hub] memória hub.memory_array[4] está RAW.\n",
      "<class 'sequence.resource_management.memory_manager.MemoryInfo'>\n",
      "[Hub hub] memória hub.memory_array[5] está RAW.\n",
      "<class 'sequence.resource_management.memory_manager.MemoryInfo'>\n",
      "[Hub hub] memória hub.memory_array[6] está RAW.\n",
      "<class 'sequence.resource_management.memory_manager.MemoryInfo'>\n",
      "[Hub hub] memória hub.memory_array[7] está RAW.\n",
      "<class 'sequence.resource_management.memory_manager.MemoryInfo'>\n",
      "[Hub hub] memória hub.memory_array[8] está RAW.\n",
      "<class 'sequence.resource_management.memory_manager.MemoryInfo'>\n",
      "[Hub hub] memória hub.memory_array[9] está RAW.\n"
     ]
    }
   ],
   "source": [
    "from sequence.kernel.timeline import Timeline\n",
    "from sequence.components.memory import MemoryArray\n",
    "from sequence.topology.node import Node\n",
    "from sequence.resource_management.resource_manager import ResourceManager\n",
    "\n",
    "# cria uma instância de Timeline\n",
    "runtime = 1e12  # tempo máximo de simulação em picosegundos\n",
    "tl = Timeline(runtime)\n",
    "\n",
    "# Hub tem que ter memória, gerenciar os entrelaçamentos\n",
    "class Hub(Node):\n",
    "    \"\"\"Nó responsável por gerenciar a memória e os entrelaçamentos. Fica entre os sensores e o gateway de saída.\"\"\"\n",
    "    def __init__(self, name, timeline):\n",
    "        super().__init__(name, timeline)\n",
    "        # Memória de qubits, são esses argumentos\n",
    "        memory_array_name = f\"{self.name}.memory_array\"\n",
    "        # outros detalhes envolvem parametros de configuração da memória, mas por enquanto só isso\n",
    "        self.memory_array = MemoryArray(memory_array_name, timeline, num_memories=10)\n",
    "        # adiciona as memórias ao hub\n",
    "        self.add_component(self.memory_array)\n",
    "        # indica que a memória é desse hub\n",
    "        self.memory_array.add_receiver(self)\n",
    "        # gerenciar os entrelaçamentos (pode ser melhor definir o próprio, mas por enquanto é assim)\n",
    "        self.resource_manager = ResourceManager(self, memory_array_name)\n",
    "    \n",
    "    def get(self, photon, **kwargs):\n",
    "        \"\"\"\n",
    "        Aqui fica toda a lógica de como o hub vai lidar com os qubits que chegam.\n",
    "        Por exemplo, podemos descartar se vier de algum nó; criar pares EPR ou descartar memórias antigas, etc\n",
    "        \"\"\"\n",
    "        src = kwargs.get(\"src\")\n",
    "        # percorre a lista de memórias (pelo memory manager mesmo) do hub e verifica se alguma está livre (RAW)\n",
    "        for info in self.resource_manager.memory_manager:\n",
    "            if info.state == \"RAW\":\n",
    "                print(f\"[Hub {self.name}] recebeu qubit {photon.name} de {src.name}.\")\n",
    "                info.memory.add_photon(photon) # isso é opcional pq é meio que de mentirinha, o quantummanager faz o trabalho de verdade\n",
    "                self.resource_manager.update(None, info.memory, \"ENTANGLE\")\n",
    "    \n",
    "        \n",
    "hub = Hub(\"hub\", tl)\n",
    "for m in hub.resource_manager.memory_manager:\n",
    "    print(type(m))\n",
    "    print(f\"[Hub {hub.name}] memória {m.memory.name} está {m.state}.\")\n",
    "# configuração opcional: desativar barra de progresso\n",
    "tl.show_progress = False"
   ]
  },
  {
   "cell_type": "code",
   "execution_count": null,
   "id": "19eaba04",
   "metadata": {},
   "outputs": [],
   "source": []
  }
 ],
 "metadata": {
  "kernelspec": {
   "display_name": ".venv",
   "language": "python",
   "name": "python3"
  },
  "language_info": {
   "codemirror_mode": {
    "name": "ipython",
    "version": 3
   },
   "file_extension": ".py",
   "mimetype": "text/x-python",
   "name": "python",
   "nbconvert_exporter": "python",
   "pygments_lexer": "ipython3",
   "version": "3.13.3"
  }
 },
 "nbformat": 4,
 "nbformat_minor": 5
}
