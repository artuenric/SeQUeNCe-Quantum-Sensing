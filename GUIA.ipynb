{
 "cells": [
  {
   "cell_type": "markdown",
   "id": "299b887a",
   "metadata": {},
   "source": [
    "# **Guia Interativo: Simulação de Rede Quântica para Criação de Estados GHZ**\n",
    "\n",
    "Este notebook é um guia para entender e interagir com o projeto de simulação de rede quântica. O objetivo principal desta simulação é criar um estado GHZ (Greenberger-Horne-Zeilinger) entre um nó central (Hub) e um conjunto de nós sensores.\n",
    "\n",
    "Aqui, vamos explorar:\n",
    "1.  O **fluxo da simulação principal**, que executa o protocolo para todos os nós configurados.\n",
    "2.  Um **exemplo prático interativo**, onde simulamos o protocolo para um par aleatório de sensores."
   ]
  },
  {
   "cell_type": "markdown",
   "id": "a824ce21",
   "metadata": {},
   "source": [
    "## 2. O Fluxo da Simulação Principal (Na Prática)\n",
    "\n",
    "Agora, vamos executar as etapas essenciais que o script `main.py` realiza, mas de forma controlada e explicada aqui no notebook. Isso nos permitirá inspecionar os componentes da simulação antes de executá-la."
   ]
  },
  {
   "cell_type": "code",
   "execution_count": 1,
   "id": "cbf7efd3",
   "metadata": {},
   "outputs": [
    {
     "name": "stdout",
     "output_type": "stream",
     "text": [
      "Módulos importados com sucesso!\n"
     ]
    }
   ],
   "source": [
    "# Célula 1: Importações\n",
    "\n",
    "# Ferramentas da simulação\n",
    "from sequence.topology.router_net_topo import RouterNetTopo\n",
    "\n",
    "# Nossas aplicações e o arquivo de configuração\n",
    "from qsn.app.ghz_active import HubGHZActiveApp, SensorGHZActiveApp\n",
    "from qsn.parameters import set_parameters, CONFIG\n",
    "\n",
    "# Ferramentas de Log (opcional para o guia, mas bom ter)\n",
    "from qsn.utils import setup_logger\n",
    "\n",
    "print(\"Módulos importados com sucesso!\")"
   ]
  },
  {
   "cell_type": "markdown",
   "id": "a2735949",
   "metadata": {},
   "source": [
    "### 2.1. Carregando a Topologia\n",
    "\n",
    "O primeiro passo é carregar a estrutura da nossa rede. Usamos o caminho do arquivo definido em `CONFIG` e o passamos para o `RouterNetTopo`, que montará todos os nós, canais quânticos e outros componentes de hardware para nós."
   ]
  },
  {
   "cell_type": "code",
   "execution_count": 2,
   "id": "72ad147a",
   "metadata": {},
   "outputs": [
    {
     "name": "stdout",
     "output_type": "stream",
     "text": [
      "Carregando a rede a partir de 'qsn/net.json'...\n",
      "Topologia da rede carregada.\n"
     ]
    }
   ],
   "source": [
    "# Célula 2: Carregando a topologia\n",
    "\n",
    "network_file = CONFIG['simulacao']['NETWORK_CONFIG_FILE']\n",
    "\n",
    "print(f\"Carregando a rede a partir de '{network_file}'...\")\n",
    "network_topo = RouterNetTopo(network_file)\n",
    "\n",
    "# A timeline é o \"relógio\" da nossa simulação\n",
    "tl = network_topo.get_timeline()\n",
    "\n",
    "print(\"Topologia da rede carregada.\")"
   ]
  },
  {
   "cell_type": "markdown",
   "id": "94ba7407",
   "metadata": {},
   "source": [
    "### 2.2. Configurando o Sistema de Logs\n",
    "\n",
    "Antes de executar qualquer coisa, precisamos configurar nosso sistema de gravação de eventos (logs). Para isso, usamos a função `setup_logger`, que funciona como um \"diretor de câmeras\", decidindo o que será gravado.\n",
    "\n",
    "Ela possui dois modos:\n",
    "* **`verbose`**: Grava absolutamente tudo que acontece na simulação, incluindo os detalhes internos da biblioteca SeQUeNCe. Ótimo para depuração profunda.\n",
    "* **`custom`**: Grava apenas os eventos das nossas aplicações (`hub_app`, `sensor_app`, etc.), gerando um log mais limpo e focado na nossa lógica.\n",
    "\n",
    "Vamos usar o modo `custom` para manter nosso log focado."
   ]
  },
  {
   "cell_type": "code",
   "execution_count": 3,
   "id": "c8bfa34a",
   "metadata": {},
   "outputs": [
    {
     "name": "stdout",
     "output_type": "stream",
     "text": [
      "Configurando o logger para a simulação...\n"
     ]
    }
   ],
   "source": [
    "print(\"Configurando o logger para a simulação...\")\n",
    "setup_logger(tl, CONFIG['simulacao']['LOG_FILE_NAME'], mode='custom')"
   ]
  },
  {
   "cell_type": "markdown",
   "id": "12ae1014",
   "metadata": {},
   "source": [
    "### 2.3. Configurando os Parâmetros do Hardware\n",
    "\n",
    "Com a topologia em memória, o próximo passo é configurar as propriedades físicas de cada componente, como a fidelidade das memórias quânticas, a eficiência dos detectores, etc. A função `set_parameters` faz isso, lendo os valores do nosso dicionário `CONFIG` e aplicando-os a cada componente da rede."
   ]
  },
  {
   "cell_type": "code",
   "execution_count": 4,
   "id": "8f1d683d",
   "metadata": {},
   "outputs": [
    {
     "name": "stdout",
     "output_type": "stream",
     "text": [
      "Aplicando parâmetros de hardware (memórias, detectores, etc.)...\n",
      "Parâmetros aplicados.\n"
     ]
    }
   ],
   "source": [
    "# Célula 3: Aplicando os parâmetros\n",
    "\n",
    "print(\"Aplicando parâmetros de hardware (memórias, detectores, etc.)...\")\n",
    "set_parameters(network_topo)\n",
    "print(\"Parâmetros aplicados.\")"
   ]
  },
  {
   "cell_type": "markdown",
   "id": "4507d1d7",
   "metadata": {},
   "source": [
    "### 2.4. Visualizando a Rede Configurada\n",
    "\n",
    "Para ter certeza de que entendemos a estrutura da nossa simulação, podemos gerar um \"mapa\" simples baseado na nossa configuração. O código abaixo lê a configuração dos hubs e mostra quais sensores estão logicamente conectados a cada um."
   ]
  },
  {
   "cell_type": "code",
   "execution_count": 5,
   "id": "84c46dfe",
   "metadata": {},
   "outputs": [
    {
     "name": "stdout",
     "output_type": "stream",
     "text": [
      "Estrutura Lógica da Rede:\n",
      "└── Hub: Hub1\n",
      "    ├── Sensor: Sensor1H1\n",
      "    ├── Sensor: Sensor2H1\n",
      "    ├── Sensor: Sensor3H1\n",
      "    └── Sensor: Sensor4H1\n",
      "└── Hub: Hub2\n",
      "    ├── Sensor: Sensor1H2\n",
      "    ├── Sensor: Sensor2H2\n",
      "    ├── Sensor: Sensor3H2\n",
      "    └── Sensor: Sensor4H2\n",
      "└── Hub: Hub3\n",
      "    ├── Sensor: Sensor1H3\n",
      "    ├── Sensor: Sensor2H3\n",
      "    ├── Sensor: Sensor3H3\n",
      "    └── Sensor: Sensor4H3\n"
     ]
    }
   ],
   "source": [
    "# Célula 4: Visualizando a estrutura lógica\n",
    "\n",
    "print(\"Estrutura Lógica da Rede:\")\n",
    "for hub_info in CONFIG['hubs_config']:\n",
    "    hub_name = hub_info['name']\n",
    "    print(f\"└── Hub: {hub_name}\")\n",
    "    \n",
    "    sensor_names = hub_info['sensors']\n",
    "    for i, sensor_name in enumerate(sensor_names):\n",
    "        # Verifica se é o último sensor para desenhar o conector correto\n",
    "        if i == len(sensor_names) - 1:\n",
    "            print(f\"    └── Sensor: {sensor_name}\")\n",
    "        else:\n",
    "            print(f\"    ├── Sensor: {sensor_name}\")"
   ]
  },
  {
   "cell_type": "markdown",
   "id": "4971fe63",
   "metadata": {},
   "source": [
    "## 3. Exemplo Prático: Simulação com um Par Aleatório\n",
    "\n",
    "Nesta seção, vamos realizar uma simulação focada. Em vez de ativar todos os hubs e sensores, faremos o seguinte:\n",
    "1.  Escolheremos um hub específico para ser o nosso orquestrador.\n",
    "2.  Selecionaremos aleatoriamente 2 sensores que estão conectados a esse hub.\n",
    "3.  Instalaremos as aplicações *apenas* nesses 3 nós (1 hub e 2 sensores).\n",
    "4.  Executaremos a simulação e veremos o que acontece.\n",
    "\n",
    "Isso nos permite testar o protocolo em uma escala menor e de forma dinâmica.\n",
    "\n",
    "### 3.1. Selecionando os Nós Aleatoriamente\n",
    "\n",
    "Primeiro, definimos qual hub queremos usar. Depois, olhamos para a nossa `CONFIG` para ver a lista de sensores daquele hub e usamos a biblioteca `random` para sortear dois deles."
   ]
  },
  {
   "cell_type": "code",
   "execution_count": 6,
   "id": "dd0b5df4",
   "metadata": {},
   "outputs": [
    {
     "name": "stdout",
     "output_type": "stream",
     "text": [
      "Hub selecionado: Hub1\n",
      "Sensores sorteados para o experimento: Sensor3H1 e Sensor4H1\n"
     ]
    }
   ],
   "source": [
    "# Célula 5: Seleção aleatória dos participantes\n",
    "import random\n",
    "\n",
    "# Você pode mudar este nome para \"Hub2\" ou \"Hub3\" para testar com outros!\n",
    "target_hub_name = \"Hub1\"\n",
    "hub_info = None\n",
    "\n",
    "# Encontra a configuração do nosso hub alvo no dicionário CONFIG\n",
    "for h_info in CONFIG['hubs_config']:\n",
    "    if h_info['name'] == target_hub_name:\n",
    "        hub_info = h_info\n",
    "        break\n",
    "\n",
    "if hub_info:\n",
    "    # Pega a lista de sensores do hub\n",
    "    possible_sensors = hub_info['sensors']\n",
    "    \n",
    "    # Sorteia 2 sensores da lista, sem repetição\n",
    "    if len(possible_sensors) >= 2:\n",
    "        selected_sensors = random.sample(possible_sensors, 2)\n",
    "        \n",
    "        print(f\"Hub selecionado: {target_hub_name}\")\n",
    "        print(f\"Sensores sorteados para o experimento: {selected_sensors[0]} e {selected_sensors[1]}\")\n",
    "    else:\n",
    "        print(f\"Erro: O {target_hub_name} não tem pelo menos 2 sensores configurados.\")\n",
    "else:\n",
    "    print(f\"Erro: Hub com o nome '{target_hub_name}' não encontrado na configuração.\")"
   ]
  },
  {
   "cell_type": "markdown",
   "id": "46c54ebb",
   "metadata": {},
   "source": [
    "### 3.2. Instalando as Aplicações\n",
    "\n",
    "Agora, vamos instalar a `HubGHZActiveApp` no nosso hub alvo e a `SensorGHZActiveApp` em cada um dos dois sensores sorteados. Note que a aplicação do hub é informada que ela só precisa se preocupar com esses dois sensores."
   ]
  },
  {
   "cell_type": "code",
   "execution_count": 7,
   "id": "d8a6f79f",
   "metadata": {},
   "outputs": [
    {
     "name": "stdout",
     "output_type": "stream",
     "text": [
      "Aplicação instalada no Hub: Hub1\n",
      "Aplicação instalada no Sensor: Sensor3H1\n",
      "Aplicação instalada no Sensor: Sensor4H1\n"
     ]
    }
   ],
   "source": [
    "# Célula 6: Instalando as aplicações no cenário específico\n",
    "\n",
    "# Pega todos os nós do tipo QUANTUM_ROUTER, que já vem como uma lista de objetos.\n",
    "all_nodes = network_topo.get_nodes_by_type(RouterNetTopo.QUANTUM_ROUTER)\n",
    "node_map = {node.name: node for node in all_nodes}\n",
    "\n",
    "# Pega os objetos dos nós que selecionamos (esta parte já estava correta)\n",
    "hub_node = node_map.get(target_hub_name)\n",
    "sensor_node1 = node_map.get(selected_sensors[0])\n",
    "sensor_node2 = node_map.get(selected_sensors[1])\n",
    "\n",
    "# Verifica se todos os nós foram encontrados antes de prosseguir\n",
    "if hub_node and sensor_node1 and sensor_node2:\n",
    "    # Instala a App no Hub\n",
    "    hub_app = HubGHZActiveApp(hub_node, selected_sensors, \n",
    "                              CONFIG['simulacao']['START_TIME'], \n",
    "                              CONFIG['simulacao']['END_TIME'])\n",
    "    hub_node.set_app(hub_app)\n",
    "    print(f\"Aplicação instalada no Hub: {hub_node.name}\")\n",
    "\n",
    "    # Instala as Apps nos Sensores\n",
    "    sensor_app1 = SensorGHZActiveApp(sensor_node1)\n",
    "    sensor_node1.set_app(sensor_app1)\n",
    "    print(f\"Aplicação instalada no Sensor: {sensor_node1.name}\")\n",
    "\n",
    "    sensor_app2 = SensorGHZActiveApp(sensor_node2)\n",
    "    sensor_node2.set_app(sensor_app2)\n",
    "    print(f\"Aplicação instalada no Sensor: {sensor_node2.name}\")\n",
    "else:\n",
    "    print(\"Erro: Um ou mais nós selecionados não foram encontrados na topologia.\")"
   ]
  },
  {
   "cell_type": "markdown",
   "id": "c6cd3529",
   "metadata": {},
   "source": [
    "### 3.3. Executando a Simulação\n",
    "\n",
    "Com as aplicações instaladas, podemos iniciar o \"relógio\" da simulação (`tl.init()`), dar o comando para o Hub começar o protocolo (`hub_app.start()`) e rodar a simulação até o fim (`tl.run()`)."
   ]
  },
  {
   "cell_type": "code",
   "execution_count": 8,
   "id": "1f4e10be",
   "metadata": {},
   "outputs": [
    {
     "name": "stdout",
     "output_type": "stream",
     "text": [
      "\n",
      "Iniciando simulação focada entre Hub1 e os sensores ['Sensor3H1', 'Sensor4H1']...\n",
      "\n",
      "Simulação focada concluída!\n",
      "Verifique o arquivo 'log.txt' para ver os detalhes da comunicação.\n"
     ]
    }
   ],
   "source": [
    "# Célula 7: Executando a simulação focada\n",
    "\n",
    "print(f\"\\nIniciando simulação focada entre {target_hub_name} e os sensores {selected_sensors}...\")\n",
    "\n",
    "# Reinicia a timeline para um estado limpo\n",
    "tl.init()\n",
    "\n",
    "# Apenas o nosso hub selecionado inicia o processo\n",
    "hub_app.start()\n",
    "\n",
    "# Roda a simulação\n",
    "tl.run()\n",
    "\n",
    "print(\"\\nSimulação focada concluída!\")\n",
    "print(f\"Verifique o arquivo '{CONFIG['simulacao']['LOG_FILE_NAME']}.txt' para ver os detalhes da comunicação.\")"
   ]
  }
 ],
 "metadata": {
  "kernelspec": {
   "display_name": "venv",
   "language": "python",
   "name": "python3"
  },
  "language_info": {
   "codemirror_mode": {
    "name": "ipython",
    "version": 3
   },
   "file_extension": ".py",
   "mimetype": "text/x-python",
   "name": "python",
   "nbconvert_exporter": "python",
   "pygments_lexer": "ipython3",
   "version": "3.13.3"
  }
 },
 "nbformat": 4,
 "nbformat_minor": 5
}
